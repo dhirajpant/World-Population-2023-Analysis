{
 "cells": [
  {
   "cell_type": "code",
   "execution_count": 1,
   "id": "dcfc8179",
   "metadata": {
    "_cell_guid": "b1076dfc-b9ad-4769-8c92-a6c4dae69d19",
    "_uuid": "8f2839f25d086af736a60e9eeb907d3b93b6e0e5",
    "papermill": {
     "duration": 2.073783,
     "end_time": "2023-10-29T14:07:06.924432",
     "exception": false,
     "start_time": "2023-10-29T14:07:04.850649",
     "status": "completed"
    },
    "tags": []
   },
   "outputs": [],
   "source": [
    "#importing necessary libraries\n",
    "import numpy as np\n",
    "import pandas as pd\n",
    "import seaborn as sns\n",
    "import matplotlib.pyplot as plt"
   ]
  },
  {
   "cell_type": "code",
   "execution_count": 2,
   "id": "e56171df",
   "metadata": {
    "papermill": {
     "duration": 0.03344,
     "end_time": "2023-10-29T14:07:06.966369",
     "exception": false,
     "start_time": "2023-10-29T14:07:06.932929",
     "status": "completed"
    },
    "tags": []
   },
   "outputs": [],
   "source": [
    "#import dataset\n",
    "df=pd.read_csv(\"World Population Datasets  - World Population 2023 by Country.csv\")"
   ]
  },
  {
   "cell_type": "code",
   "execution_count": 3,
   "id": "b588bc35",
   "metadata": {
    "papermill": {
     "duration": 0.041087,
     "end_time": "2023-10-29T14:07:07.013833",
     "exception": false,
     "start_time": "2023-10-29T14:07:06.972746",
     "status": "completed"
    },
    "tags": []
   },
   "outputs": [
    {
     "data": {
      "text/html": [
       "<div>\n",
       "<style scoped>\n",
       "    .dataframe tbody tr th:only-of-type {\n",
       "        vertical-align: middle;\n",
       "    }\n",
       "\n",
       "    .dataframe tbody tr th {\n",
       "        vertical-align: top;\n",
       "    }\n",
       "\n",
       "    .dataframe thead th {\n",
       "        text-align: right;\n",
       "    }\n",
       "</style>\n",
       "<table border=\"1\" class=\"dataframe\">\n",
       "  <thead>\n",
       "    <tr style=\"text-align: right;\">\n",
       "      <th></th>\n",
       "      <th>Country, territory or other area</th>\n",
       "      <th>Population (estimated mid-year value, millions)</th>\n",
       "      <th>Region</th>\n",
       "      <th>ID</th>\n",
       "      <th>source: https://www.un-ilibrary.org/content/books/9789210027137/read\\nSee the visualization on Information is Beautiful\\nhttps://informationisbeautiful.net/visualizations/world-population/</th>\n",
       "    </tr>\n",
       "  </thead>\n",
       "  <tbody>\n",
       "    <tr>\n",
       "      <th>0</th>\n",
       "      <td>Afghanistan</td>\n",
       "      <td>42.2</td>\n",
       "      <td>Central Asia</td>\n",
       "      <td>1</td>\n",
       "      <td>NaN</td>\n",
       "    </tr>\n",
       "    <tr>\n",
       "      <th>1</th>\n",
       "      <td>Albania</td>\n",
       "      <td>2.8</td>\n",
       "      <td>Europe</td>\n",
       "      <td>2</td>\n",
       "      <td>NaN</td>\n",
       "    </tr>\n",
       "    <tr>\n",
       "      <th>2</th>\n",
       "      <td>Algeria</td>\n",
       "      <td>45.6</td>\n",
       "      <td>Africa</td>\n",
       "      <td>3</td>\n",
       "      <td>NaN</td>\n",
       "    </tr>\n",
       "    <tr>\n",
       "      <th>3</th>\n",
       "      <td>Angola</td>\n",
       "      <td>36.7</td>\n",
       "      <td>Africa</td>\n",
       "      <td>4</td>\n",
       "      <td>NaN</td>\n",
       "    </tr>\n",
       "    <tr>\n",
       "      <th>4</th>\n",
       "      <td>Antigua &amp; Barbuda</td>\n",
       "      <td>0.1</td>\n",
       "      <td>Central &amp; N. America</td>\n",
       "      <td>5</td>\n",
       "      <td>NaN</td>\n",
       "    </tr>\n",
       "  </tbody>\n",
       "</table>\n",
       "</div>"
      ],
      "text/plain": [
       "  Country, territory or other area   \\\n",
       "0                       Afghanistan   \n",
       "1                           Albania   \n",
       "2                           Algeria   \n",
       "3                            Angola   \n",
       "4                 Antigua & Barbuda   \n",
       "\n",
       "  Population (estimated mid-year value, millions)                Region  ID  \\\n",
       "0                                            42.2          Central Asia   1   \n",
       "1                                             2.8                Europe   2   \n",
       "2                                            45.6                Africa   3   \n",
       "3                                            36.7                Africa   4   \n",
       "4                                             0.1  Central & N. America   5   \n",
       "\n",
       "   source: https://www.un-ilibrary.org/content/books/9789210027137/read\\nSee the visualization on Information is Beautiful\\nhttps://informationisbeautiful.net/visualizations/world-population/  \n",
       "0                                                NaN                                                                                                                                             \n",
       "1                                                NaN                                                                                                                                             \n",
       "2                                                NaN                                                                                                                                             \n",
       "3                                                NaN                                                                                                                                             \n",
       "4                                                NaN                                                                                                                                             "
      ]
     },
     "execution_count": 3,
     "metadata": {},
     "output_type": "execute_result"
    }
   ],
   "source": [
    "#first few rows of df\n",
    "df.head()"
   ]
  },
  {
   "cell_type": "code",
   "execution_count": 4,
   "id": "a0b1912f",
   "metadata": {
    "papermill": {
     "duration": 0.022318,
     "end_time": "2023-10-29T14:07:07.042759",
     "exception": false,
     "start_time": "2023-10-29T14:07:07.020441",
     "status": "completed"
    },
    "tags": []
   },
   "outputs": [
    {
     "data": {
      "text/html": [
       "<div>\n",
       "<style scoped>\n",
       "    .dataframe tbody tr th:only-of-type {\n",
       "        vertical-align: middle;\n",
       "    }\n",
       "\n",
       "    .dataframe tbody tr th {\n",
       "        vertical-align: top;\n",
       "    }\n",
       "\n",
       "    .dataframe thead th {\n",
       "        text-align: right;\n",
       "    }\n",
       "</style>\n",
       "<table border=\"1\" class=\"dataframe\">\n",
       "  <thead>\n",
       "    <tr style=\"text-align: right;\">\n",
       "      <th></th>\n",
       "      <th>Country, territory or other area</th>\n",
       "      <th>Population (estimated mid-year value, millions)</th>\n",
       "      <th>Region</th>\n",
       "      <th>ID</th>\n",
       "      <th>source: https://www.un-ilibrary.org/content/books/9789210027137/read\\nSee the visualization on Information is Beautiful\\nhttps://informationisbeautiful.net/visualizations/world-population/</th>\n",
       "    </tr>\n",
       "  </thead>\n",
       "  <tbody>\n",
       "    <tr>\n",
       "      <th>199</th>\n",
       "      <td>Vietnam</td>\n",
       "      <td>98.9</td>\n",
       "      <td>East Asia</td>\n",
       "      <td>200</td>\n",
       "      <td>NaN</td>\n",
       "    </tr>\n",
       "    <tr>\n",
       "      <th>200</th>\n",
       "      <td>Western Sahara</td>\n",
       "      <td>0.6</td>\n",
       "      <td>Africa</td>\n",
       "      <td>201</td>\n",
       "      <td>NaN</td>\n",
       "    </tr>\n",
       "    <tr>\n",
       "      <th>201</th>\n",
       "      <td>Yemen</td>\n",
       "      <td>34.4</td>\n",
       "      <td>Middle East</td>\n",
       "      <td>202</td>\n",
       "      <td>NaN</td>\n",
       "    </tr>\n",
       "    <tr>\n",
       "      <th>202</th>\n",
       "      <td>Zambia</td>\n",
       "      <td>20.6</td>\n",
       "      <td>Africa</td>\n",
       "      <td>203</td>\n",
       "      <td>NaN</td>\n",
       "    </tr>\n",
       "    <tr>\n",
       "      <th>203</th>\n",
       "      <td>Zimbabwe</td>\n",
       "      <td>16.7</td>\n",
       "      <td>Africa</td>\n",
       "      <td>204</td>\n",
       "      <td>NaN</td>\n",
       "    </tr>\n",
       "  </tbody>\n",
       "</table>\n",
       "</div>"
      ],
      "text/plain": [
       "    Country, territory or other area   \\\n",
       "199                           Vietnam   \n",
       "200                    Western Sahara   \n",
       "201                             Yemen   \n",
       "202                            Zambia   \n",
       "203                          Zimbabwe   \n",
       "\n",
       "    Population (estimated mid-year value, millions)       Region   ID  \\\n",
       "199                                            98.9    East Asia  200   \n",
       "200                                             0.6       Africa  201   \n",
       "201                                            34.4  Middle East  202   \n",
       "202                                            20.6       Africa  203   \n",
       "203                                            16.7       Africa  204   \n",
       "\n",
       "     source: https://www.un-ilibrary.org/content/books/9789210027137/read\\nSee the visualization on Information is Beautiful\\nhttps://informationisbeautiful.net/visualizations/world-population/  \n",
       "199                                                NaN                                                                                                                                             \n",
       "200                                                NaN                                                                                                                                             \n",
       "201                                                NaN                                                                                                                                             \n",
       "202                                                NaN                                                                                                                                             \n",
       "203                                                NaN                                                                                                                                             "
      ]
     },
     "execution_count": 4,
     "metadata": {},
     "output_type": "execute_result"
    }
   ],
   "source": [
    "#last few rows of df\n",
    "df.tail()"
   ]
  },
  {
   "cell_type": "code",
   "execution_count": 5,
   "id": "5a03726d",
   "metadata": {
    "papermill": {
     "duration": 0.02442,
     "end_time": "2023-10-29T14:07:07.073892",
     "exception": false,
     "start_time": "2023-10-29T14:07:07.049472",
     "status": "completed"
    },
    "tags": []
   },
   "outputs": [],
   "source": [
    "#remove the last column\n",
    "df=df.drop(columns='source: https://www.un-ilibrary.org/content/books/9789210027137/read\\nSee the visualization on Information is Beautiful\\nhttps://informationisbeautiful.net/visualizations/world-population/')"
   ]
  },
  {
   "cell_type": "code",
   "execution_count": 6,
   "id": "8fc46e6b",
   "metadata": {
    "papermill": {
     "duration": 0.023164,
     "end_time": "2023-10-29T14:07:07.104263",
     "exception": false,
     "start_time": "2023-10-29T14:07:07.081099",
     "status": "completed"
    },
    "tags": []
   },
   "outputs": [
    {
     "data": {
      "text/html": [
       "<div>\n",
       "<style scoped>\n",
       "    .dataframe tbody tr th:only-of-type {\n",
       "        vertical-align: middle;\n",
       "    }\n",
       "\n",
       "    .dataframe tbody tr th {\n",
       "        vertical-align: top;\n",
       "    }\n",
       "\n",
       "    .dataframe thead th {\n",
       "        text-align: right;\n",
       "    }\n",
       "</style>\n",
       "<table border=\"1\" class=\"dataframe\">\n",
       "  <thead>\n",
       "    <tr style=\"text-align: right;\">\n",
       "      <th></th>\n",
       "      <th>Country, territory or other area</th>\n",
       "      <th>Population (estimated mid-year value, millions)</th>\n",
       "      <th>Region</th>\n",
       "      <th>ID</th>\n",
       "    </tr>\n",
       "  </thead>\n",
       "  <tbody>\n",
       "    <tr>\n",
       "      <th>0</th>\n",
       "      <td>Afghanistan</td>\n",
       "      <td>42.2</td>\n",
       "      <td>Central Asia</td>\n",
       "      <td>1</td>\n",
       "    </tr>\n",
       "    <tr>\n",
       "      <th>1</th>\n",
       "      <td>Albania</td>\n",
       "      <td>2.8</td>\n",
       "      <td>Europe</td>\n",
       "      <td>2</td>\n",
       "    </tr>\n",
       "    <tr>\n",
       "      <th>2</th>\n",
       "      <td>Algeria</td>\n",
       "      <td>45.6</td>\n",
       "      <td>Africa</td>\n",
       "      <td>3</td>\n",
       "    </tr>\n",
       "    <tr>\n",
       "      <th>3</th>\n",
       "      <td>Angola</td>\n",
       "      <td>36.7</td>\n",
       "      <td>Africa</td>\n",
       "      <td>4</td>\n",
       "    </tr>\n",
       "    <tr>\n",
       "      <th>4</th>\n",
       "      <td>Antigua &amp; Barbuda</td>\n",
       "      <td>0.1</td>\n",
       "      <td>Central &amp; N. America</td>\n",
       "      <td>5</td>\n",
       "    </tr>\n",
       "  </tbody>\n",
       "</table>\n",
       "</div>"
      ],
      "text/plain": [
       "  Country, territory or other area   \\\n",
       "0                       Afghanistan   \n",
       "1                           Albania   \n",
       "2                           Algeria   \n",
       "3                            Angola   \n",
       "4                 Antigua & Barbuda   \n",
       "\n",
       "  Population (estimated mid-year value, millions)                Region  ID  \n",
       "0                                            42.2          Central Asia   1  \n",
       "1                                             2.8                Europe   2  \n",
       "2                                            45.6                Africa   3  \n",
       "3                                            36.7                Africa   4  \n",
       "4                                             0.1  Central & N. America   5  "
      ]
     },
     "execution_count": 6,
     "metadata": {},
     "output_type": "execute_result"
    }
   ],
   "source": [
    "df.head()"
   ]
  },
  {
   "cell_type": "code",
   "execution_count": 7,
   "id": "e8bea6b0",
   "metadata": {
    "papermill": {
     "duration": 0.017515,
     "end_time": "2023-10-29T14:07:07.128879",
     "exception": false,
     "start_time": "2023-10-29T14:07:07.111364",
     "status": "completed"
    },
    "tags": []
   },
   "outputs": [
    {
     "data": {
      "text/plain": [
       "(204, 4)"
      ]
     },
     "execution_count": 7,
     "metadata": {},
     "output_type": "execute_result"
    }
   ],
   "source": [
    "#no of rows and columns in df\n",
    "df.shape"
   ]
  },
  {
   "cell_type": "code",
   "execution_count": 8,
   "id": "1584d1d9",
   "metadata": {
    "papermill": {
     "duration": 0.036098,
     "end_time": "2023-10-29T14:07:07.172490",
     "exception": false,
     "start_time": "2023-10-29T14:07:07.136392",
     "status": "completed"
    },
    "tags": []
   },
   "outputs": [
    {
     "name": "stdout",
     "output_type": "stream",
     "text": [
      "<class 'pandas.core.frame.DataFrame'>\n",
      "RangeIndex: 204 entries, 0 to 203\n",
      "Data columns (total 4 columns):\n",
      " #   Column                                           Non-Null Count  Dtype \n",
      "---  ------                                           --------------  ----- \n",
      " 0   Country, territory or other area                 204 non-null    object\n",
      " 1   Population (estimated mid-year value, millions)  204 non-null    object\n",
      " 2   Region                                           204 non-null    object\n",
      " 3   ID                                               204 non-null    int64 \n",
      "dtypes: int64(1), object(3)\n",
      "memory usage: 6.5+ KB\n"
     ]
    }
   ],
   "source": [
    "#name & datatype of columns\n",
    "df.info()"
   ]
  },
  {
   "cell_type": "code",
   "execution_count": 9,
   "id": "6d533f07",
   "metadata": {
    "papermill": {
     "duration": 0.018788,
     "end_time": "2023-10-29T14:07:07.198959",
     "exception": false,
     "start_time": "2023-10-29T14:07:07.180171",
     "status": "completed"
    },
    "tags": []
   },
   "outputs": [],
   "source": [
    "#renaming the name of columns\n",
    "new_columns={'Country, territory or other area ' : 'Country',\n",
    "             'Population (estimated mid-year value, millions)' : 'Population (millions)'\n",
    "}\n",
    "df=df.rename(columns=new_columns)"
   ]
  },
  {
   "cell_type": "code",
   "execution_count": 10,
   "id": "0d881fdd",
   "metadata": {
    "papermill": {
     "duration": 0.019382,
     "end_time": "2023-10-29T14:07:07.226546",
     "exception": false,
     "start_time": "2023-10-29T14:07:07.207164",
     "status": "completed"
    },
    "tags": []
   },
   "outputs": [],
   "source": [
    "#change the datatype of population column to float\n",
    "df['Population (millions)']=df['Population (millions)'].str.replace(\",\",'').astype(float)"
   ]
  },
  {
   "cell_type": "code",
   "execution_count": 11,
   "id": "56f4c2c3",
   "metadata": {
    "papermill": {
     "duration": 0.032134,
     "end_time": "2023-10-29T14:07:07.266608",
     "exception": false,
     "start_time": "2023-10-29T14:07:07.234474",
     "status": "completed"
    },
    "tags": []
   },
   "outputs": [
    {
     "data": {
      "text/html": [
       "<div>\n",
       "<style scoped>\n",
       "    .dataframe tbody tr th:only-of-type {\n",
       "        vertical-align: middle;\n",
       "    }\n",
       "\n",
       "    .dataframe tbody tr th {\n",
       "        vertical-align: top;\n",
       "    }\n",
       "\n",
       "    .dataframe thead th {\n",
       "        text-align: right;\n",
       "    }\n",
       "</style>\n",
       "<table border=\"1\" class=\"dataframe\">\n",
       "  <thead>\n",
       "    <tr style=\"text-align: right;\">\n",
       "      <th></th>\n",
       "      <th>Population (millions)</th>\n",
       "      <th>ID</th>\n",
       "    </tr>\n",
       "  </thead>\n",
       "  <tbody>\n",
       "    <tr>\n",
       "      <th>count</th>\n",
       "      <td>204.000000</td>\n",
       "      <td>204.000000</td>\n",
       "    </tr>\n",
       "    <tr>\n",
       "      <th>mean</th>\n",
       "      <td>39.552941</td>\n",
       "      <td>102.500000</td>\n",
       "    </tr>\n",
       "    <tr>\n",
       "      <th>std</th>\n",
       "      <td>146.517073</td>\n",
       "      <td>59.033889</td>\n",
       "    </tr>\n",
       "    <tr>\n",
       "      <th>min</th>\n",
       "      <td>0.000000</td>\n",
       "      <td>1.000000</td>\n",
       "    </tr>\n",
       "    <tr>\n",
       "      <th>25%</th>\n",
       "      <td>1.475000</td>\n",
       "      <td>51.750000</td>\n",
       "    </tr>\n",
       "    <tr>\n",
       "      <th>50%</th>\n",
       "      <td>8.200000</td>\n",
       "      <td>102.500000</td>\n",
       "    </tr>\n",
       "    <tr>\n",
       "      <th>75%</th>\n",
       "      <td>29.250000</td>\n",
       "      <td>153.250000</td>\n",
       "    </tr>\n",
       "    <tr>\n",
       "      <th>max</th>\n",
       "      <td>1428.600000</td>\n",
       "      <td>204.000000</td>\n",
       "    </tr>\n",
       "  </tbody>\n",
       "</table>\n",
       "</div>"
      ],
      "text/plain": [
       "       Population (millions)          ID\n",
       "count             204.000000  204.000000\n",
       "mean               39.552941  102.500000\n",
       "std               146.517073   59.033889\n",
       "min                 0.000000    1.000000\n",
       "25%                 1.475000   51.750000\n",
       "50%                 8.200000  102.500000\n",
       "75%                29.250000  153.250000\n",
       "max              1428.600000  204.000000"
      ]
     },
     "execution_count": 11,
     "metadata": {},
     "output_type": "execute_result"
    }
   ],
   "source": [
    "#perform basic statistical operations in numeric columns\n",
    "df.describe()"
   ]
  },
  {
   "cell_type": "code",
   "execution_count": 12,
   "id": "b7de7117",
   "metadata": {
    "papermill": {
     "duration": 0.021268,
     "end_time": "2023-10-29T14:07:07.295770",
     "exception": false,
     "start_time": "2023-10-29T14:07:07.274502",
     "status": "completed"
    },
    "tags": []
   },
   "outputs": [
    {
     "data": {
      "text/plain": [
       "array(['Afghanistan', 'Albania', 'Algeria', 'Angola', 'Antigua & Barbuda',\n",
       "       'Argentina', 'Armenia', 'Aruba', 'Australia', 'Austria',\n",
       "       'Azerbaijan', 'Bahamas', 'Bahrain', 'Bangladesh', 'Barbados',\n",
       "       'Belarus', 'Belgium', 'Belize', 'Benin', 'Bhutan', 'Bolivia',\n",
       "       'Bosnia & Herzegovina', 'Botswana', 'Brazil', 'Brunei Darussalam',\n",
       "       'Bulgaria', 'Burkina Faso', 'Burundi', 'Cabo Verde', 'Cambodia',\n",
       "       'Cameroon', 'Canada', 'African Republic', 'Chad', 'Chile', 'China',\n",
       "       'Hong Kong', 'Macao', 'Colombia', 'Comoros', 'Congo', 'Costa Rica',\n",
       "       \"Côte d'Ivoire\", 'Croatia', 'Cuba', 'Curaçao', 'Cyprus', 'Czechia',\n",
       "       'N. Korea', 'Congo DRC', 'Denmark', 'Djibouti', 'Dominica',\n",
       "       'Dom. Rep', 'Ecuador', 'Egypt', 'El Salvador', 'Equatorial Guinea',\n",
       "       'Eritrea', 'Estonia', 'Eswatini', 'Ethiopia', 'Fiji', 'Finland',\n",
       "       'France', 'French Guiana', 'French Polynesia', 'Gabon', 'Gambia',\n",
       "       'Georgia', 'Germany', 'Ghana', 'Greece', 'Grenada', 'Guadeloupe',\n",
       "       'Guam', 'Guatemala', 'Guinea', 'Guinea-Bissau', 'Guyana', 'Haiti',\n",
       "       'Honduras', 'Hungary', 'Iceland', 'India', 'Indonesia', 'Iran',\n",
       "       'Iraq', 'Ireland', 'Israel', 'Italy', 'Jamaica', 'Japan', 'Jordan',\n",
       "       'Kazakhstan', 'Kenya', 'Kiribati', 'Kuwait', 'Kyrgyzstan', 'Lao',\n",
       "       'Latvia', 'Lebanon', 'Lesotho', 'Liberia', 'Libya', 'Lithuania',\n",
       "       'Luxembourg', 'Madagascar', 'Malawi', 'Malaysia', 'Maldives',\n",
       "       'Mali', 'Malta', 'Matinique', 'Mauritania', 'Mauritius', 'Mexico',\n",
       "       'Micronesia', 'Mongolia', 'Montenegro', 'Morocco', 'Mozambique',\n",
       "       'Myanmar', 'Namibia', 'Nepal', 'Netherlands', 'New Caledonia',\n",
       "       'New Zealand', 'Nicaragua', 'Niger', 'Nigeria', 'N. Macedonia',\n",
       "       'Norway', 'Oman', 'Pakistan', 'Panama', 'Papua New Guinea',\n",
       "       'Paraguay', 'Peru', 'Philippines', 'Poland', 'Portugal',\n",
       "       'Puerto Rico', 'Qatar', 'S. Korea', 'Moldova', 'Reunion',\n",
       "       'Romania', 'Russia', 'Rwanda', 'Saint Kitts & Nevis',\n",
       "       'Saint Lucia', 'Saint Vincent & Grenadines', 'Samoa', 'San Marino',\n",
       "       'Sao Tome and Principe', 'Saudi Arabia', 'Senegal', 'Serbia',\n",
       "       'Seychelles', 'Sierra Leone', 'Singapore', 'Sint Maarten',\n",
       "       'Slovakia', 'Slovenia', 'Solomon Islands', 'Somalia', 'S. Africa',\n",
       "       'South Sudan', 'Spain', 'Sri Lanka', 'Palestine', 'Sudan',\n",
       "       'Suriname', 'Sweden', 'Switzerland', 'Syria', 'Tajikistan',\n",
       "       'Thailand', 'Timor-Leste', 'Togo', 'Tonga', 'Trinidad & Tobago',\n",
       "       'Tunisia', 'Turkey', 'Turkmenistan', 'Turks & Caicos Islands',\n",
       "       'Tuvalu', 'Uganda', 'Ukraine', 'UAE', 'UK ', 'Tanzania', 'USA',\n",
       "       'Virgin Islands', 'Uruguay', 'Uzbekistan', 'Vanuatu', 'Venezuela',\n",
       "       'Vietnam', 'Western Sahara', 'Yemen', 'Zambia', 'Zimbabwe'],\n",
       "      dtype=object)"
      ]
     },
     "execution_count": 12,
     "metadata": {},
     "output_type": "execute_result"
    }
   ],
   "source": [
    "#Check unique values of 'country' column\n",
    "df['Country'].unique()"
   ]
  },
  {
   "cell_type": "code",
   "execution_count": 13,
   "id": "67b10d70",
   "metadata": {
    "papermill": {
     "duration": 0.02014,
     "end_time": "2023-10-29T14:07:07.324633",
     "exception": false,
     "start_time": "2023-10-29T14:07:07.304493",
     "status": "completed"
    },
    "tags": []
   },
   "outputs": [
    {
     "data": {
      "text/plain": [
       "array(['Central Asia', 'Europe', 'Africa', 'Central & N. America',\n",
       "       'S. America', 'Oceania', 'Middle East', 'East Asia'], dtype=object)"
      ]
     },
     "execution_count": 13,
     "metadata": {},
     "output_type": "execute_result"
    }
   ],
   "source": [
    "#Check unique values of 'Region' column\n",
    "df['Region'].unique()"
   ]
  },
  {
   "cell_type": "code",
   "execution_count": 14,
   "id": "7473a352",
   "metadata": {
    "papermill": {
     "duration": 0.021743,
     "end_time": "2023-10-29T14:07:07.355280",
     "exception": false,
     "start_time": "2023-10-29T14:07:07.333537",
     "status": "completed"
    },
    "tags": []
   },
   "outputs": [
    {
     "data": {
      "text/plain": [
       "Country                  0\n",
       "Population (millions)    0\n",
       "Region                   0\n",
       "ID                       0\n",
       "dtype: int64"
      ]
     },
     "execution_count": 14,
     "metadata": {},
     "output_type": "execute_result"
    }
   ],
   "source": [
    "#check missing values\n",
    "df.isnull().sum()"
   ]
  },
  {
   "cell_type": "code",
   "execution_count": 15,
   "id": "ef81d9be",
   "metadata": {
    "papermill": {
     "duration": 0.025945,
     "end_time": "2023-10-29T14:07:07.390139",
     "exception": false,
     "start_time": "2023-10-29T14:07:07.364194",
     "status": "completed"
    },
    "tags": []
   },
   "outputs": [
    {
     "data": {
      "text/plain": [
       "0"
      ]
     },
     "execution_count": 15,
     "metadata": {},
     "output_type": "execute_result"
    }
   ],
   "source": [
    "#check duplicates\n",
    "df.duplicated().sum()"
   ]
  },
  {
   "cell_type": "code",
   "execution_count": 16,
   "id": "ed84385b",
   "metadata": {
    "papermill": {
     "duration": 0.357168,
     "end_time": "2023-10-29T14:07:07.756857",
     "exception": false,
     "start_time": "2023-10-29T14:07:07.399689",
     "status": "completed"
    },
    "tags": []
   },
   "outputs": [
    {
     "data": {
      "image/png": "[encoded data removed]",
      "text/plain": [
       "<Figure size 1400x800 with 1 Axes>"
      ]
     },
     "metadata": {},
     "output_type": "display_data"
    }
   ],
   "source": [
    "#countplot\n",
    "plt.figure(figsize=(14,8))\n",
    "sns.countplot(data=df,x=df['Region'])\n",
    "plt.show()"
   ]
  },
  {
   "cell_type": "code",
   "execution_count": 17,
   "id": "550055b6",
   "metadata": {
    "papermill": {
     "duration": 0.029862,
     "end_time": "2023-10-29T14:07:07.796509",
     "exception": false,
     "start_time": "2023-10-29T14:07:07.766647",
     "status": "completed"
    },
    "tags": []
   },
   "outputs": [
    {
     "data": {
      "text/html": [
       "<div>\n",
       "<style scoped>\n",
       "    .dataframe tbody tr th:only-of-type {\n",
       "        vertical-align: middle;\n",
       "    }\n",
       "\n",
       "    .dataframe tbody tr th {\n",
       "        vertical-align: top;\n",
       "    }\n",
       "\n",
       "    .dataframe thead th {\n",
       "        text-align: right;\n",
       "    }\n",
       "</style>\n",
       "<table border=\"1\" class=\"dataframe\">\n",
       "  <thead>\n",
       "    <tr style=\"text-align: right;\">\n",
       "      <th></th>\n",
       "      <th>Country</th>\n",
       "      <th>Population (millions)</th>\n",
       "      <th>Region</th>\n",
       "      <th>ID</th>\n",
       "    </tr>\n",
       "  </thead>\n",
       "  <tbody>\n",
       "    <tr>\n",
       "      <th>84</th>\n",
       "      <td>India</td>\n",
       "      <td>1428.6</td>\n",
       "      <td>Central Asia</td>\n",
       "      <td>85</td>\n",
       "    </tr>\n",
       "    <tr>\n",
       "      <th>35</th>\n",
       "      <td>China</td>\n",
       "      <td>1425.7</td>\n",
       "      <td>East Asia</td>\n",
       "      <td>36</td>\n",
       "    </tr>\n",
       "    <tr>\n",
       "      <th>193</th>\n",
       "      <td>USA</td>\n",
       "      <td>340.0</td>\n",
       "      <td>Central &amp; N. America</td>\n",
       "      <td>194</td>\n",
       "    </tr>\n",
       "    <tr>\n",
       "      <th>85</th>\n",
       "      <td>Indonesia</td>\n",
       "      <td>277.5</td>\n",
       "      <td>East Asia</td>\n",
       "      <td>86</td>\n",
       "    </tr>\n",
       "    <tr>\n",
       "      <th>134</th>\n",
       "      <td>Pakistan</td>\n",
       "      <td>240.5</td>\n",
       "      <td>Central Asia</td>\n",
       "      <td>135</td>\n",
       "    </tr>\n",
       "    <tr>\n",
       "      <th>...</th>\n",
       "      <td>...</td>\n",
       "      <td>...</td>\n",
       "      <td>...</td>\n",
       "      <td>...</td>\n",
       "    </tr>\n",
       "    <tr>\n",
       "      <th>187</th>\n",
       "      <td>Tuvalu</td>\n",
       "      <td>0.0</td>\n",
       "      <td>Africa</td>\n",
       "      <td>188</td>\n",
       "    </tr>\n",
       "    <tr>\n",
       "      <th>186</th>\n",
       "      <td>Turks &amp; Caicos Islands</td>\n",
       "      <td>0.0</td>\n",
       "      <td>Central &amp; N. America</td>\n",
       "      <td>187</td>\n",
       "    </tr>\n",
       "    <tr>\n",
       "      <th>162</th>\n",
       "      <td>Sint Maarten</td>\n",
       "      <td>0.0</td>\n",
       "      <td>Central &amp; N. America</td>\n",
       "      <td>163</td>\n",
       "    </tr>\n",
       "    <tr>\n",
       "      <th>154</th>\n",
       "      <td>San Marino</td>\n",
       "      <td>0.0</td>\n",
       "      <td>Europe</td>\n",
       "      <td>155</td>\n",
       "    </tr>\n",
       "    <tr>\n",
       "      <th>150</th>\n",
       "      <td>Saint Kitts &amp; Nevis</td>\n",
       "      <td>0.0</td>\n",
       "      <td>Central &amp; N. America</td>\n",
       "      <td>151</td>\n",
       "    </tr>\n",
       "  </tbody>\n",
       "</table>\n",
       "<p>204 rows × 4 columns</p>\n",
       "</div>"
      ],
      "text/plain": [
       "                    Country  Population (millions)                Region   ID\n",
       "84                    India                 1428.6          Central Asia   85\n",
       "35                    China                 1425.7             East Asia   36\n",
       "193                     USA                  340.0  Central & N. America  194\n",
       "85                Indonesia                  277.5             East Asia   86\n",
       "134                Pakistan                  240.5          Central Asia  135\n",
       "..                      ...                    ...                   ...  ...\n",
       "187                  Tuvalu                    0.0                Africa  188\n",
       "186  Turks & Caicos Islands                    0.0  Central & N. America  187\n",
       "162            Sint Maarten                    0.0  Central & N. America  163\n",
       "154              San Marino                    0.0                Europe  155\n",
       "150     Saint Kitts & Nevis                    0.0  Central & N. America  151\n",
       "\n",
       "[204 rows x 4 columns]"
      ]
     },
     "execution_count": 17,
     "metadata": {},
     "output_type": "execute_result"
    }
   ],
   "source": [
    "df_sorted=df.sort_values(by='Population (millions)',ascending=False)\n",
    "df_sorted"
   ]
  },
  {
   "cell_type": "code",
   "execution_count": 18,
   "id": "cbf14637",
   "metadata": {
    "papermill": {
     "duration": 0.365184,
     "end_time": "2023-10-29T14:07:08.171792",
     "exception": false,
     "start_time": "2023-10-29T14:07:07.806608",
     "status": "completed"
    },
    "tags": []
   },
   "outputs": [
    {
     "data": {
      "image/png": "[encoded data removed]",
      "text/plain": [
       "<Figure size 1000x800 with 1 Axes>"
      ]
     },
     "metadata": {},
     "output_type": "display_data"
    }
   ],
   "source": [
    "#Bar chart of top 10 countries with largest Populations\n",
    "plt.figure(figsize=(10,8))\n",
    "plt.bar(x=df_sorted['Country'].head(10),height=df_sorted['Population (millions)'].head(10))\n",
    "plt.xlabel(\"Countries\")\n",
    "plt.ylabel(\"Population (millions)\")\n",
    "plt.title(\"Top 10 countries with largest Populations\")\n",
    "plt.show()"
   ]
  },
  {
   "cell_type": "code",
   "execution_count": 19,
   "id": "78a70192",
   "metadata": {
    "papermill": {
     "duration": 0.400625,
     "end_time": "2023-10-29T14:07:08.583053",
     "exception": false,
     "start_time": "2023-10-29T14:07:08.182428",
     "status": "completed"
    },
    "tags": []
   },
   "outputs": [
    {
     "data": {
      "image/png": "[encoded data removed]",
      "text/plain": [
       "<Figure size 1200x800 with 1 Axes>"
      ]
     },
     "metadata": {},
     "output_type": "display_data"
    }
   ],
   "source": [
    "#Box plot\n",
    "plt.figure(figsize=(12,8))\n",
    "sns.boxplot(data=df, y=df['Region'] ,x=df['Population (millions)'])\n",
    "plt.show()"
   ]
  },
  {
   "cell_type": "code",
   "execution_count": 20,
   "id": "c94379ba",
   "metadata": {
    "papermill": {
     "duration": 1.733218,
     "end_time": "2023-10-29T14:07:10.328944",
     "exception": false,
     "start_time": "2023-10-29T14:07:08.595726",
     "status": "completed"
    },
    "tags": []
   },
   "outputs": [
    {
     "data": {
      "image/png": "[encoded data removed]",
      "text/plain": [
       "<Figure size 800x800 with 1 Axes>"
      ]
     },
     "metadata": {},
     "output_type": "display_data"
    }
   ],
   "source": [
    "#scatter plot\n",
    "plt.figure(figsize=(8,8))\n",
    "sns.scatterplot(data=df,x='Country',y='Population (millions)',hue='Region')\n",
    "plt.show()"
   ]
  }
 ],
 "metadata": {
  "kernelspec": {
   "display_name": "Python 3 (ipykernel)",
   "language": "python",
   "name": "python3"
  },
  "language_info": {
   "codemirror_mode": {
    "name": "ipython",
    "version": 3
   },
   "file_extension": ".py",
   "mimetype": "text/x-python",
   "name": "python",
   "nbconvert_exporter": "python",
   "pygments_lexer": "ipython3",
   "version": "3.11.6"
  },
  "papermill": {
   "default_parameters": {},
   "duration": 9.976235,
   "end_time": "2023-10-29T14:07:10.964155",
   "environment_variables": {},
   "exception": null,
   "input_path": "__notebook__.ipynb",
   "output_path": "__notebook__.ipynb",
   "parameters": {},
   "start_time": "2023-10-29T14:07:00.987920",
   "version": "2.4.0"
  }
 },
 "nbformat": 4,
 "nbformat_minor": 5
}
